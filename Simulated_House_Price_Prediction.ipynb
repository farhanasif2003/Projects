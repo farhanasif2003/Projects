{
  "nbformat": 4,
  "nbformat_minor": 0,
  "metadata": {
    "colab": {
      "provenance": [],
      "authorship_tag": "ABX9TyOq87H0QhM/Kk5jkj+ysHLg",
      "include_colab_link": true
    },
    "kernelspec": {
      "name": "python3",
      "display_name": "Python 3"
    },
    "language_info": {
      "name": "python"
    }
  },
  "cells": [
    {
      "cell_type": "markdown",
      "metadata": {
        "id": "view-in-github",
        "colab_type": "text"
      },
      "source": [
        "<a href=\"https://colab.research.google.com/github/farhanasif2003/Projects/blob/main/Simulated_House_Price_Prediction.ipynb\" target=\"_parent\"><img src=\"https://colab.research.google.com/assets/colab-badge.svg\" alt=\"Open In Colab\"/></a>"
      ]
    },
    {
      "cell_type": "code",
      "execution_count": 1,
      "metadata": {
        "id": "qtv2qzUeJQJb",
        "colab": {
          "base_uri": "https://localhost:8080/"
        },
        "outputId": "17593656-08da-4722-875b-b8faef2af5b0"
      },
      "outputs": [
        {
          "output_type": "stream",
          "name": "stdout",
          "text": [
            "Sample Dummy Data:\n",
            "    sqft  location_score  age_of_house  near_school  num_balconies  \\\n",
            "0  4182        5.643590             1            0              1   \n",
            "1  4054        8.069687            21            0              3   \n",
            "2  1946        3.943701            28            1              0   \n",
            "3  4660        7.310730             8            1              0   \n",
            "4  2193        1.610690            40            1              1   \n",
            "\n",
            "           price  \n",
            "0  560551.904292  \n",
            "1  574933.868414  \n",
            "2  269953.005395  \n",
            "3  653894.303584  \n",
            "4  279101.901443  \n",
            "\n",
            " Model Evaluation:\n",
            "Mean Squared Error: 71078542.4\n",
            "R2 Score: 0.9971\n",
            "\n",
            " Predicted Price for test house: $475,935.81\n"
          ]
        },
        {
          "output_type": "stream",
          "name": "stderr",
          "text": [
            "/usr/local/lib/python3.11/dist-packages/sklearn/utils/validation.py:2739: UserWarning: X does not have valid feature names, but LinearRegression was fitted with feature names\n",
            "  warnings.warn(\n"
          ]
        }
      ],
      "source": [
        "import numpy as np\n",
        "import pandas as pd\n",
        "from sklearn.linear_model import LinearRegression\n",
        "from sklearn.model_selection import train_test_split\n",
        "from sklearn.metrics import mean_squared_error, r2_score\n",
        "\n",
        "\n",
        "def generate_custom_dummy_data(num_samples=150):\n",
        "    np.random.seed(123)\n",
        "\n",
        "    # Simulated feature columns\n",
        "    sqft = np.random.randint(600, 5000, num_samples)\n",
        "    location_score = np.random.uniform(0, 10, num_samples)  # 0 = worst, 10 = best location\n",
        "    age_of_house = np.random.randint(0, 50, num_samples)    # in years\n",
        "    near_school = np.random.randint(0, 2, num_samples)       # 0 = No, 1 = Yes\n",
        "    num_balconies = np.random.randint(0, 4, num_samples)\n",
        "\n",
        "    # Simulated price formula (purely made-up for this project)\n",
        "    price = (\n",
        "        sqft * 120\n",
        "        + location_score * 10000\n",
        "        - age_of_house * 500\n",
        "        + near_school * 20000\n",
        "        + num_balconies * 7000\n",
        "        + np.random.randint(-15000, 15000, num_samples)  # Random noise\n",
        "    )\n",
        "\n",
        "    df = pd.DataFrame({\n",
        "        \"sqft\": sqft,\n",
        "        \"location_score\": location_score,\n",
        "        \"age_of_house\": age_of_house,\n",
        "        \"near_school\": near_school,\n",
        "        \"num_balconies\": num_balconies,\n",
        "        \"price\": price\n",
        "    })\n",
        "\n",
        "    return df\n",
        "\n",
        "\n",
        "def run_model():\n",
        "    df = generate_custom_dummy_data()\n",
        "    print(\"Sample Dummy Data:\\n\", df.head())\n",
        "\n",
        "    X = df.drop(\"price\", axis=1)\n",
        "    y = df[\"price\"]\n",
        "\n",
        "    X_train, X_test, y_train, y_test = train_test_split(X, y, test_size=0.25, random_state=42)\n",
        "\n",
        "    model = LinearRegression()\n",
        "    model.fit(X_train, y_train)\n",
        "\n",
        "    predictions = model.predict(X_test)\n",
        "\n",
        "    print(\"\\n Model Evaluation:\")\n",
        "    print(\"Mean Squared Error:\", round(mean_squared_error(y_test, predictions), 2))\n",
        "    print(\"R2 Score:\", round(r2_score(y_test, predictions), 4))\n",
        "\n",
        "    # Demo prediction\n",
        "    demo_input = np.array([[3000, 8.5, 5, 1, 2]])  # [sqft, location_score, age, near_school, balconies]\n",
        "    estimated = model.predict(demo_input)[0]\n",
        "    print(f\"\\n Predicted Price for test house: ${estimated:,.2f}\")\n",
        "\n",
        "\n",
        "if __name__ == \"__main__\":\n",
        "    run_model()\n"
      ]
    }
  ]
}